{
 "cells": [
  {
   "cell_type": "code",
   "execution_count": 5,
   "metadata": {},
   "outputs": [
    {
     "name": "stdout",
     "output_type": "stream",
     "text": [
      "1\n"
     ]
    }
   ],
   "source": [
    "print(1)"
   ]
  },
  {
   "cell_type": "code",
   "execution_count": 6,
   "metadata": {},
   "outputs": [
    {
     "name": "stdout",
     "output_type": "stream",
     "text": [
      "4\n",
      "%d 4\n"
     ]
    }
   ],
   "source": [
    "a=1\n",
    "b=3\n",
    "c=a+b\n",
    "print(c)\n",
    "print(\"%d\",c)"
   ]
  },
  {
   "cell_type": "code",
   "execution_count": 6,
   "metadata": {},
   "outputs": [],
   "source": [
    "mystring=None\n",
    "myint=None\n",
    "myfloat=None\n",
    "\n",
    "if mystring==\"hello\":\n",
    "    print(\"String: %s \"%mystring)"
   ]
  },
  {
   "cell_type": "code",
   "execution_count": null,
   "metadata": {},
   "outputs": [],
   "source": [
    "print(\"my  name is \\\"puskar\\\"\")"
   ]
  },
  {
   "cell_type": "code",
   "execution_count": null,
   "metadata": {},
   "outputs": [],
   "source": [
    "numbers=[]\n",
    "strings=[]\n",
    "names=[\"puskar\",\"aarekh\",\"prabesh\"]\n",
    "numbers.append(1)\n",
    "numbers.append(2)\n",
    "numbers.append(3)\n",
    "strings.append(\"hello \")\n",
    "strings.append(\"world\")\n",
    "second_name=None\n",
    "second_name=names.pop(0)\n",
    "print(second_name)\n",
    "print(numbers)\n",
    "print(strings)"
   ]
  },
  {
   "cell_type": "code",
   "execution_count": null,
   "metadata": {},
   "outputs": [],
   "source": [
    "name= input(\"enter the name\")\n",
    "roll=int(input (\"enter the roll no\"))\n",
    "lists=[name, roll]\n",
    "print(lists)"
   ]
  },
  {
   "cell_type": "code",
   "execution_count": null,
   "metadata": {},
   "outputs": [],
   "source": [
    "a=2**3**2\n",
    "print (a)"
   ]
  },
  {
   "cell_type": "code",
   "execution_count": 3,
   "metadata": {},
   "outputs": [
    {
     "name": "stdout",
     "output_type": "stream",
     "text": [
      "adult\n"
     ]
    }
   ],
   "source": [
    "age=21\n",
    "height=5.9\n",
    "name=\"alice\"\n",
    "is_student=True\n",
    "\n",
    "if age>18:\n",
    "    print(\"adult\")\n",
    "elif age==18:\n",
    "    print(\"just became an adult\")\n",
    "else:\n",
    "    print(\"minor\")\n"
   ]
  },
  {
   "cell_type": "code",
   "execution_count": 2,
   "metadata": {},
   "outputs": [
    {
     "name": "stdout",
     "output_type": "stream",
     "text": [
      "number:0\n",
      "number:1\n",
      "number:2\n",
      "number:3\n",
      "number:4\n"
     ]
    }
   ],
   "source": [
    "for i in range(5):\n",
    "    print(f\"number:{i}\")\n",
    "               \n"
   ]
  },
  {
   "cell_type": "code",
   "execution_count": 1,
   "metadata": {},
   "outputs": [
    {
     "name": "stdout",
     "output_type": "stream",
     "text": [
      "counting 0\n",
      "counting 1\n",
      "counting 2\n"
     ]
    }
   ],
   "source": [
    "count=0\n",
    "while count<3:\n",
    "    print(\"counting\",count)\n",
    "    count+=1\n"
   ]
  },
  {
   "cell_type": "code",
   "execution_count": 4,
   "metadata": {},
   "outputs": [
    {
     "name": "stdout",
     "output_type": "stream",
     "text": [
      "hello puskar!\n"
     ]
    }
   ],
   "source": [
    "def great(name):\n",
    "    return f\"hello {name}!\"\n",
    "\n",
    "print(great(\"puskar\"))"
   ]
  },
  {
   "cell_type": "code",
   "execution_count": null,
   "metadata": {},
   "outputs": [],
   "source": []
  }
 ],
 "metadata": {
  "kernelspec": {
   "display_name": "Python 3",
   "language": "python",
   "name": "python3"
  },
  "language_info": {
   "codemirror_mode": {
    "name": "ipython",
    "version": 3
   },
   "file_extension": ".py",
   "mimetype": "text/x-python",
   "name": "python",
   "nbconvert_exporter": "python",
   "pygments_lexer": "ipython3",
   "version": "3.13.1"
  }
 },
 "nbformat": 4,
 "nbformat_minor": 2
}
